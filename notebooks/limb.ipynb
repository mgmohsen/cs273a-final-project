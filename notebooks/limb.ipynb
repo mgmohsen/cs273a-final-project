{
 "cells": [
  {
   "cell_type": "markdown",
   "metadata": {},
   "source": [
    "# Limb"
   ]
  },
  {
   "cell_type": "code",
   "execution_count": 1,
   "metadata": {
    "collapsed": false
   },
   "outputs": [],
   "source": [
    "# need this for jupyter notebook to import from the parent directory\n",
    "import os, sys\n",
    "sys.path.append('../')\n",
    "# import SequenceReader() class\n",
    "from utils.seq_reader import *\n",
    "import matplotlib.pyplot as plt\n",
    "%matplotlib inline"
   ]
  },
  {
   "cell_type": "markdown",
   "metadata": {},
   "source": [
    "#### 1) Create an instance of SequenceReader() with target expression and the k-mer length"
   ]
  },
  {
   "cell_type": "code",
   "execution_count": 2,
   "metadata": {
    "collapsed": false
   },
   "outputs": [],
   "source": [
    "seq_reader = SequenceReader('limb', 6)"
   ]
  },
  {
   "cell_type": "markdown",
   "metadata": {},
   "source": [
    "#### 2) Read the entire file"
   ]
  },
  {
   "cell_type": "code",
   "execution_count": 3,
   "metadata": {
    "collapsed": false
   },
   "outputs": [
    {
     "name": "stderr",
     "output_type": "stream",
     "text": [
      "106363it [00:15, 7082.84it/s]"
     ]
    },
    {
     "name": "stdout",
     "output_type": "stream",
     "text": [
      "Total lines read: 106363\n",
      "Total sequences read: 2892\n",
      "Number of seqs with enhancer activity: 1574\n",
      "# of Positive sequence with limb expression : 337\n",
      "# of Negative sequence with limb expression : 2555\n"
     ]
    },
    {
     "name": "stderr",
     "output_type": "stream",
     "text": [
      "\n"
     ]
    }
   ],
   "source": [
    "seq_reader.read_all()"
   ]
  },
  {
   "cell_type": "markdown",
   "metadata": {},
   "source": [
    "#### 3) Get keys and entire features"
   ]
  },
  {
   "cell_type": "code",
   "execution_count": 4,
   "metadata": {
    "collapsed": true
   },
   "outputs": [],
   "source": [
    "keys, entire_features = seq_reader.get_entire_features()"
   ]
  },
  {
   "cell_type": "markdown",
   "metadata": {},
   "source": [
    "#### 4) Import all the necessary Scikit packages"
   ]
  },
  {
   "cell_type": "code",
   "execution_count": 5,
   "metadata": {
    "collapsed": true
   },
   "outputs": [],
   "source": [
    "from sklearn.metrics import roc_curve, auc, classification_report, precision_recall_curve\n",
    "from sklearn import svm\n",
    "from sklearn.model_selection import ShuffleSplit, GridSearchCV, KFold, cross_val_score"
   ]
  },
  {
   "cell_type": "markdown",
   "metadata": {},
   "source": [
    "#### 5) Set negative dataset for training\n",
    "From the paper:\n",
    " To test the scaling with negative set size, we used three negative sets (roughly balanced, 1x, 5x larger, and 100x larger than the positive enhancer set). (...)\n",
    " \n",
    "To replicate this, we first train our model based on roughly balanced dataset. We shuffle the negative dataset, shuffle it, and take the first (POSITIVE_CNT times NEGATIVE_SCALE) entries as a new negatives for training."
   ]
  },
  {
   "cell_type": "code",
   "execution_count": 6,
   "metadata": {
    "collapsed": false
   },
   "outputs": [
    {
     "name": "stdout",
     "output_type": "stream",
     "text": [
      "Negative Scale: 1\n",
      "Positive counts: 337, Negative counts for training: 337\n"
     ]
    }
   ],
   "source": [
    "NEGATIVE_SCALE = 1\n",
    "POSITIVE_CNT = len(entire_features['True'])\n",
    "\n",
    "# 1) Fetch all negatives\n",
    "negatives = entire_features['False']\n",
    "\n",
    "# 2) Take the negative elements of the now randomized array based on \"NEGATIVE_SCALE\"\n",
    "negatives = negatives[:POSITIVE_CNT*NEGATIVE_SCALE]\n",
    "\n",
    "print \"Negative Scale: {}\".format(NEGATIVE_SCALE)\n",
    "print \"Positive counts: {}, Negative counts for training: {}\".format(POSITIVE_CNT, len(negatives))"
   ]
  },
  {
   "cell_type": "markdown",
   "metadata": {},
   "source": [
    "#### 6) Convert the entire features into X and y dataset for training"
   ]
  },
  {
   "cell_type": "code",
   "execution_count": 7,
   "metadata": {
    "collapsed": false
   },
   "outputs": [],
   "source": [
    "X = [entry[0] for entry in (entire_features['True'] + negatives)]\n",
    "X = np.array(X)"
   ]
  },
  {
   "cell_type": "code",
   "execution_count": 8,
   "metadata": {
    "collapsed": false
   },
   "outputs": [],
   "source": [
    "y = [1 for _ in entire_features['True']] + [0 for _ in negatives]\n",
    "y = np.array(y)"
   ]
  },
  {
   "cell_type": "markdown",
   "metadata": {},
   "source": [
    "#### 7) Shuffle and split into train/val and test dataset"
   ]
  },
  {
   "cell_type": "code",
   "execution_count": 9,
   "metadata": {
    "collapsed": false
   },
   "outputs": [
    {
     "name": "stdout",
     "output_type": "stream",
     "text": [
      "Shuffle/Split Complete!\n"
     ]
    }
   ],
   "source": [
    "rs = ShuffleSplit(n_splits=1,\n",
    "                  random_state=7,\n",
    "                  test_size=0.2,\n",
    "                  train_size=None)\n",
    "print \"Shuffle/Split Complete!\""
   ]
  },
  {
   "cell_type": "markdown",
   "metadata": {},
   "source": [
    "#### 8) Setup for Cross-validation & Grid search of model and its hyperparameters"
   ]
  },
  {
   "cell_type": "code",
   "execution_count": 10,
   "metadata": {
    "collapsed": true
   },
   "outputs": [],
   "source": [
    "tuned_parameters = [{'C': [0.1, 1, 10, 1000], 'gamma': [1e-3, 1e-4, 1e-5], 'kernel': ['rbf']}]\n",
    "scores = ['roc_auc']\n",
    "target_names = ['Negative', 'Positive']\n",
    "STATS_DIR = '../stats/limb'\n",
    "if not os.path.exists(STATS_DIR):\n",
    "    os.makedirs(STATS_DIR)"
   ]
  },
  {
   "cell_type": "markdown",
   "metadata": {},
   "source": [
    "#### 9) Create a train/val and test dataset based on shuffle/split"
   ]
  },
  {
   "cell_type": "code",
   "execution_count": 11,
   "metadata": {
    "collapsed": false
   },
   "outputs": [
    {
     "name": "stdout",
     "output_type": "stream",
     "text": [
      "Finished generating train set!\n",
      "Finished generating test set!\n"
     ]
    }
   ],
   "source": [
    "X_train, X_test = [], []\n",
    "y_train, y_test = [], []\n",
    "for train_indices, test_indices in rs.split(X):\n",
    "    for train_index in train_indices:\n",
    "        X_train.append(X[train_index])\n",
    "        y_train.append(y[train_index])\n",
    "    print \"Finished generating train set!\"\n",
    "    for test_index in test_indices:\n",
    "        X_test.append(X[test_index])\n",
    "        y_test.append(y[test_index])\n",
    "    print \"Finished generating test set!\""
   ]
  },
  {
   "cell_type": "markdown",
   "metadata": {},
   "source": [
    "#### 10) Verify whether train/val and test dataset has correct distribution as intended"
   ]
  },
  {
   "cell_type": "code",
   "execution_count": 12,
   "metadata": {
    "collapsed": true
   },
   "outputs": [],
   "source": [
    "def render_cnt_and_ratio(total_list):\n",
    "    total = len(total_list)\n",
    "    cnt_1 = np.count_nonzero(total_list)\n",
    "    cnt_0 = total - cnt_1\n",
    "    ratio = [cnt_0*1.0/total, cnt_1*1.0/total]\n",
    "    return [cnt_0, cnt_1], ratio"
   ]
  },
  {
   "cell_type": "code",
   "execution_count": 13,
   "metadata": {
    "collapsed": false
   },
   "outputs": [
    {
     "data": {
      "text/plain": [
       "([<matplotlib.axis.XTick at 0x112217490>,\n",
       "  <matplotlib.axis.XTick at 0x112217950>],\n",
       " <a list of 2 Text xticklabel objects>)"
      ]
     },
     "execution_count": 13,
     "metadata": {},
     "output_type": "execute_result"
    },
    {
     "data": {
      "image/png": "[encoded data removed]",
      "text/plain": [
       "<matplotlib.figure.Figure at 0x1116a1a90>"
      ]
     },
     "metadata": {},
     "output_type": "display_data"
    }
   ],
   "source": [
    "cnts, ratios = render_cnt_and_ratio(y_train)\n",
    "\n",
    "fig, ax = plt.subplots()\n",
    "plt.subplot(111)\n",
    "plt.title('Train/Val')\n",
    "plt.bar([0,1], ratios)\n",
    "plt.xticks([0, 1], ('0: ({0:.2f})'.format(ratios[0]),'1: ({0:.2f})'.format(ratios[1])))"
   ]
  },
  {
   "cell_type": "code",
   "execution_count": 14,
   "metadata": {
    "collapsed": false
   },
   "outputs": [
    {
     "data": {
      "text/plain": [
       "([<matplotlib.axis.XTick at 0x112384550>,\n",
       "  <matplotlib.axis.XTick at 0x112384d50>],\n",
       " <a list of 2 Text xticklabel objects>)"
      ]
     },
     "execution_count": 14,
     "metadata": {},
     "output_type": "execute_result"
    },
    {
     "data": {
      "image/png": "[encoded data removed]",
      "text/plain": [
       "<matplotlib.figure.Figure at 0x112243450>"
      ]
     },
     "metadata": {},
     "output_type": "display_data"
    }
   ],
   "source": [
    "cnts, ratios = render_cnt_and_ratio(y_test)\n",
    "\n",
    "fig, ax = plt.subplots()\n",
    "plt.subplot(111)\n",
    "plt.title('Test')\n",
    "plt.bar([0,1], ratios)\n",
    "plt.xticks([0, 1], ('0: ({0:.2f})'.format(ratios[0]),'1: ({0:.2f})'.format(ratios[1])))"
   ]
  },
  {
   "cell_type": "markdown",
   "metadata": {},
   "source": [
    "#### 11) Run Grid Search based on 5-fold cross validation"
   ]
  },
  {
   "cell_type": "code",
   "execution_count": 15,
   "metadata": {
    "collapsed": false
   },
   "outputs": [
    {
     "name": "stdout",
     "output_type": "stream",
     "text": [
      "# Tuning hyper-parameters for roc_auc\n",
      "Best parameters set found on development set:\n",
      "{'kernel': 'rbf', 'C': 1000, 'gamma': 0.001}\n",
      "Grid scores on development set:\n",
      "0.784 (+/-0.094) for {'kernel': 'rbf', 'C': 0.1, 'gamma': 0.001}\n",
      "0.784 (+/-0.093) for {'kernel': 'rbf', 'C': 0.1, 'gamma': 0.0001}\n",
      "0.783 (+/-0.094) for {'kernel': 'rbf', 'C': 0.1, 'gamma': 1e-05}\n",
      "0.783 (+/-0.093) for {'kernel': 'rbf', 'C': 1, 'gamma': 0.001}\n",
      "0.784 (+/-0.093) for {'kernel': 'rbf', 'C': 1, 'gamma': 0.0001}\n",
      "0.784 (+/-0.094) for {'kernel': 'rbf', 'C': 1, 'gamma': 1e-05}\n",
      "0.783 (+/-0.093) for {'kernel': 'rbf', 'C': 10, 'gamma': 0.001}\n",
      "0.783 (+/-0.093) for {'kernel': 'rbf', 'C': 10, 'gamma': 0.0001}\n",
      "0.784 (+/-0.094) for {'kernel': 'rbf', 'C': 10, 'gamma': 1e-05}\n",
      "0.867 (+/-0.054) for {'kernel': 'rbf', 'C': 1000, 'gamma': 0.001}\n",
      "0.820 (+/-0.081) for {'kernel': 'rbf', 'C': 1000, 'gamma': 0.0001}\n",
      "0.783 (+/-0.093) for {'kernel': 'rbf', 'C': 1000, 'gamma': 1e-05}\n",
      "Detailed classification report:\n",
      "The model is trained on the full development set.\n",
      "The scores are computed on the full evaluation set.\n",
      "Performance on Test Set\n",
      "             precision    recall  f1-score   support\n",
      "\n",
      "   Negative       0.87      0.83      0.85        75\n",
      "   Positive       0.80      0.85      0.82        60\n",
      "\n",
      "avg / total       0.84      0.84      0.84       135\n",
      "\n"
     ]
    }
   ],
   "source": [
    "for score in scores:\n",
    "    print \"# Tuning hyper-parameters for %s\" % score\n",
    "    \n",
    "    scoring = '%s_macro' % score if score is not 'roc_auc' else score\n",
    "\n",
    "    clf = GridSearchCV(svm.SVC(probability=True),\n",
    "                       tuned_parameters,\n",
    "                       cv=5,\n",
    "                       scoring=scoring)\n",
    "    clf.fit(X_train, y_train)\n",
    "\n",
    "    print \"Best parameters set found on development set:\"\n",
    "    print clf.best_params_\n",
    "    \n",
    "    print \"Grid scores on development set:\"\n",
    "    means = clf.cv_results_['mean_test_score']\n",
    "    stds = clf.cv_results_['std_test_score']\n",
    "    for mean, std, params in zip(means, stds, clf.cv_results_['params']):\n",
    "        print \"%0.3f (+/-%0.03f) for %r\"% (mean, std * 2, params)\n",
    "\n",
    "    print \"Detailed classification report:\" \n",
    " \n",
    "    print \"The model is trained on the full development set.\"\n",
    "    print \"The scores are computed on the full evaluation set.\"\n",
    "\n",
    "    # classification report and auroc on test\n",
    "    print \"Performance on Test Set\"\n",
    "    y_true, y_pred = y_test, clf.predict(X_test)\n",
    "    print classification_report(y_true, y_pred, target_names=target_names)\n",
    "    \n",
    "    probas_ = clf.predict_proba(X_test)\n",
    "    fpr_1, tpr_1, thresholds = roc_curve(y_test, probas_[:, 1])\n",
    "    \n",
    "    np.save(os.path.join(STATS_DIR, \"svm_rbf_1_fpr_test.npy\"), fpr_1)\n",
    "    np.save(os.path.join(STATS_DIR, \"svm_rbf_1_tpr_test.npy\"), tpr_1)\n",
    "    \n",
    "    precision_1, recall_1, thresholds = precision_recall_curve(y_test, probas_[:, 1])\n",
    "    \n",
    "    np.save(os.path.join(STATS_DIR, \"svm_rbf_1_precision_test.npy\"), precision_1)\n",
    "    np.save(os.path.join(STATS_DIR, \"svm_rbf_1_recall_test.npy\")   , recall_1)"
   ]
  },
  {
   "cell_type": "markdown",
   "metadata": {},
   "source": [
    "#### 12) Repeat this whole process for NEGATIVE_SCALE = 2"
   ]
  },
  {
   "cell_type": "code",
   "execution_count": 16,
   "metadata": {
    "collapsed": false
   },
   "outputs": [
    {
     "name": "stdout",
     "output_type": "stream",
     "text": [
      "Negative Scale: 2\n",
      "Positive counts: 337, Negative counts for training: 674\n",
      "Finished generating train set!\n",
      "Finished generating test set!\n"
     ]
    }
   ],
   "source": [
    "import random\n",
    "NEGATIVE_SCALE = 2\n",
    "POSITIVE_CNT = len(entire_features['True'])\n",
    "\n",
    "# 1) Fetch all negatives\n",
    "negatives = entire_features['False']\n",
    "\n",
    "# 2) Take the negative elements of the now randomized array based on \"NEGATIVE_SCALE\"\n",
    "negatives = negatives[:POSITIVE_CNT*NEGATIVE_SCALE]\n",
    "\n",
    "print \"Negative Scale: {}\".format(NEGATIVE_SCALE)\n",
    "print \"Positive counts: {}, Negative counts for training: {}\".format(POSITIVE_CNT, len(negatives))\n",
    "\n",
    "X = [entry[0] for entry in (entire_features['True'] + negatives)]\n",
    "X = np.array(X)\n",
    "\n",
    "y = [1 for _ in entire_features['True']] + [0 for _ in negatives]\n",
    "y = np.array(y)\n",
    "\n",
    "tuned_parameters = [{'C': [0.1, 1, 10, 1000], 'gamma': [1e-3, 1e-4, 1e-5], 'kernel': ['rbf']}]\n",
    "scores = ['roc_auc']\n",
    "target_names = ['Negative', 'Positive']\n",
    "STATS_DIR = '../stats/limb'\n",
    "if not os.path.exists(STATS_DIR):\n",
    "    os.makedirs(STATS_DIR)\n",
    "\n",
    "X_train, X_test = [], []\n",
    "y_train, y_test = [], []\n",
    "for train_indices, test_indices in rs.split(X):\n",
    "    for train_index in train_indices:\n",
    "        X_train.append(X[train_index])\n",
    "        y_train.append(y[train_index])\n",
    "    print \"Finished generating train set!\"\n",
    "    for test_index in test_indices:\n",
    "        X_test.append(X[test_index])\n",
    "        y_test.append(y[test_index])\n",
    "    print \"Finished generating test set!\"\n",
    "\n",
    "def render_cnt_and_ratio(total_list):\n",
    "    total = len(total_list)\n",
    "    cnt_1 = np.count_nonzero(total_list)\n",
    "    cnt_0 = total - cnt_1\n",
    "    ratio = [cnt_0*1.0/total, cnt_1*1.0/total]\n",
    "    return [cnt_0, cnt_1], ratio"
   ]
  },
  {
   "cell_type": "code",
   "execution_count": 17,
   "metadata": {
    "collapsed": false
   },
   "outputs": [
    {
     "data": {
      "text/plain": [
       "([<matplotlib.axis.XTick at 0x11542ffd0>,\n",
       "  <matplotlib.axis.XTick at 0x11542fe10>],\n",
       " <a list of 2 Text xticklabel objects>)"
      ]
     },
     "execution_count": 17,
     "metadata": {},
     "output_type": "execute_result"
    },
    {
     "data": {
      "image/png": "[encoded data removed]",
      "text/plain": [
       "<matplotlib.figure.Figure at 0x112423850>"
      ]
     },
     "metadata": {},
     "output_type": "display_data"
    }
   ],
   "source": [
    "cnts, ratios = render_cnt_and_ratio(y_train)\n",
    "\n",
    "fig, ax = plt.subplots()\n",
    "plt.subplot(111)\n",
    "plt.title('Train/Val')\n",
    "plt.bar([0,1], ratios)\n",
    "plt.xticks([0, 1], ('0: ({0:.2f})'.format(ratios[0]),'1: ({0:.2f})'.format(ratios[1])))"
   ]
  },
  {
   "cell_type": "code",
   "execution_count": 18,
   "metadata": {
    "collapsed": false
   },
   "outputs": [
    {
     "data": {
      "text/plain": [
       "([<matplotlib.axis.XTick at 0x11561d610>,\n",
       "  <matplotlib.axis.XTick at 0x11561d950>],\n",
       " <a list of 2 Text xticklabel objects>)"
      ]
     },
     "execution_count": 18,
     "metadata": {},
     "output_type": "execute_result"
    },
    {
     "data": {
      "image/png": "[encoded data removed]",
      "text/plain": [
       "<matplotlib.figure.Figure at 0x112423610>"
      ]
     },
     "metadata": {},
     "output_type": "display_data"
    }
   ],
   "source": [
    "cnts, ratios = render_cnt_and_ratio(y_test)\n",
    "\n",
    "fig, ax = plt.subplots()\n",
    "plt.subplot(111)\n",
    "plt.title('Test')\n",
    "plt.bar([0,1], ratios)\n",
    "plt.xticks([0, 1], ('0: ({0:.2f})'.format(ratios[0]),'1: ({0:.2f})'.format(ratios[1])))"
   ]
  },
  {
   "cell_type": "code",
   "execution_count": 19,
   "metadata": {
    "collapsed": false
   },
   "outputs": [
    {
     "name": "stdout",
     "output_type": "stream",
     "text": [
      "# Tuning hyper-parameters for roc_auc\n",
      "Best parameters set found on development set:\n",
      "{'kernel': 'rbf', 'C': 1000, 'gamma': 0.001}\n",
      "Grid scores on development set:\n",
      "0.836 (+/-0.036) for {'kernel': 'rbf', 'C': 0.1, 'gamma': 0.001}\n",
      "0.837 (+/-0.037) for {'kernel': 'rbf', 'C': 0.1, 'gamma': 0.0001}\n",
      "0.837 (+/-0.039) for {'kernel': 'rbf', 'C': 0.1, 'gamma': 1e-05}\n",
      "0.843 (+/-0.040) for {'kernel': 'rbf', 'C': 1, 'gamma': 0.001}\n",
      "0.837 (+/-0.037) for {'kernel': 'rbf', 'C': 1, 'gamma': 0.0001}\n",
      "0.838 (+/-0.037) for {'kernel': 'rbf', 'C': 1, 'gamma': 1e-05}\n",
      "0.843 (+/-0.040) for {'kernel': 'rbf', 'C': 10, 'gamma': 0.001}\n",
      "0.843 (+/-0.040) for {'kernel': 'rbf', 'C': 10, 'gamma': 0.0001}\n",
      "0.838 (+/-0.037) for {'kernel': 'rbf', 'C': 10, 'gamma': 1e-05}\n",
      "0.879 (+/-0.037) for {'kernel': 'rbf', 'C': 1000, 'gamma': 0.001}\n",
      "0.852 (+/-0.040) for {'kernel': 'rbf', 'C': 1000, 'gamma': 0.0001}\n",
      "0.843 (+/-0.040) for {'kernel': 'rbf', 'C': 1000, 'gamma': 1e-05}\n",
      "Detailed classification report:\n",
      "The model is trained on the full development set.\n",
      "The scores are computed on the full evaluation set.\n",
      "Performance on Test Set\n",
      "             precision    recall  f1-score   support\n",
      "\n",
      "   Negative       0.84      0.93      0.89       134\n",
      "   Positive       0.84      0.67      0.74        69\n",
      "\n",
      "avg / total       0.84      0.84      0.84       203\n",
      "\n"
     ]
    }
   ],
   "source": [
    "for score in scores:\n",
    "    print \"# Tuning hyper-parameters for %s\" % score\n",
    "    \n",
    "    scoring = '%s_macro' % score if score is not 'roc_auc' else score\n",
    "\n",
    "    clf = GridSearchCV(svm.SVC(probability=True),\n",
    "                       tuned_parameters,\n",
    "                       cv=5,\n",
    "                       scoring=scoring)\n",
    "    clf.fit(X_train, y_train)\n",
    "\n",
    "    print \"Best parameters set found on development set:\"\n",
    "    print clf.best_params_\n",
    "    \n",
    "    print \"Grid scores on development set:\"\n",
    "    means = clf.cv_results_['mean_test_score']\n",
    "    stds = clf.cv_results_['std_test_score']\n",
    "    for mean, std, params in zip(means, stds, clf.cv_results_['params']):\n",
    "        print \"%0.3f (+/-%0.03f) for %r\"% (mean, std * 2, params)\n",
    "\n",
    "    print \"Detailed classification report:\" \n",
    " \n",
    "    print \"The model is trained on the full development set.\"\n",
    "    print \"The scores are computed on the full evaluation set.\"\n",
    "\n",
    "    # classification report and auroc on test\n",
    "    print \"Performance on Test Set\"\n",
    "    y_true, y_pred = y_test, clf.predict(X_test)\n",
    "    print classification_report(y_true, y_pred, target_names=target_names)\n",
    "    \n",
    "    probas_ = clf.predict_proba(X_test)\n",
    "    fpr_2, tpr_2, thresholds = roc_curve(y_test, probas_[:, 1])\n",
    "    \n",
    "    np.save(os.path.join(STATS_DIR, \"svm_rbf_2_fpr_test.npy\"), fpr_2)\n",
    "    np.save(os.path.join(STATS_DIR, \"svm_rbf_2_tpr_test.npy\"), tpr_2)\n",
    "    \n",
    "    precision_2, recall_2, thresholds = precision_recall_curve(y_test, probas_[:, 1])\n",
    "    \n",
    "    np.save(os.path.join(STATS_DIR, \"svm_rbf_2_precision_test.npy\"), precision_2)\n",
    "    np.save(os.path.join(STATS_DIR, \"svm_rbf_2_recall_test.npy\")   , recall_2)"
   ]
  },
  {
   "cell_type": "markdown",
   "metadata": {},
   "source": [
    "#### 13) Repeat this whole process for NO NEGATIVE_SCALE (use all negatives as is)"
   ]
  },
  {
   "cell_type": "code",
   "execution_count": 20,
   "metadata": {
    "collapsed": false
   },
   "outputs": [
    {
     "name": "stdout",
     "output_type": "stream",
     "text": [
      "Finished generating train set!\n",
      "Finished generating test set!\n"
     ]
    }
   ],
   "source": [
    "# No negative scale - use full negatives\n",
    "\n",
    "# 1) Fetch all negatives\n",
    "negatives = entire_features['False']\n",
    "\n",
    "X = [entry[0] for entry in (entire_features['True'] + negatives)]\n",
    "X = np.array(X)\n",
    "\n",
    "y = [1 for _ in entire_features['True']] + [0 for _ in negatives]\n",
    "y = np.array(y)\n",
    "\n",
    "tuned_parameters = [{'C': [0.1, 1, 10, 1000], 'gamma': [1e-3, 1e-4, 1e-5], 'kernel': ['rbf']}]\n",
    "scores = ['roc_auc']\n",
    "target_names = ['Negative', 'Positive']\n",
    "STATS_DIR = '../stats/limb'\n",
    "if not os.path.exists(STATS_DIR):\n",
    "    os.makedirs(STATS_DIR)\n",
    "\n",
    "X_train, X_test = [], []\n",
    "y_train, y_test = [], []\n",
    "for train_indices, test_indices in rs.split(X):\n",
    "    for train_index in train_indices:\n",
    "        X_train.append(X[train_index])\n",
    "        y_train.append(y[train_index])\n",
    "    print \"Finished generating train set!\"\n",
    "    for test_index in test_indices:\n",
    "        X_test.append(X[test_index])\n",
    "        y_test.append(y[test_index])\n",
    "    print \"Finished generating test set!\"\n",
    "\n",
    "def render_cnt_and_ratio(total_list):\n",
    "    total = len(total_list)\n",
    "    cnt_1 = np.count_nonzero(total_list)\n",
    "    cnt_0 = total - cnt_1\n",
    "    ratio = [cnt_0*1.0/total, cnt_1*1.0/total]\n",
    "    return [cnt_0, cnt_1], ratio"
   ]
  },
  {
   "cell_type": "code",
   "execution_count": 21,
   "metadata": {
    "collapsed": false
   },
   "outputs": [
    {
     "data": {
      "text/plain": [
       "([<matplotlib.axis.XTick at 0x112302bd0>,\n",
       "  <matplotlib.axis.XTick at 0x112302f10>],\n",
       " <a list of 2 Text xticklabel objects>)"
      ]
     },
     "execution_count": 21,
     "metadata": {},
     "output_type": "execute_result"
    },
    {
     "data": {
      "image/png": "[encoded data removed]",
      "text/plain": [
       "<matplotlib.figure.Figure at 0x115647610>"
      ]
     },
     "metadata": {},
     "output_type": "display_data"
    }
   ],
   "source": [
    "cnts, ratios = render_cnt_and_ratio(y_train)\n",
    "\n",
    "fig, ax = plt.subplots()\n",
    "plt.subplot(111)\n",
    "plt.title('Train/Val')\n",
    "plt.bar([0,1], ratios)\n",
    "plt.xticks([0, 1], ('0: ({0:.2f})'.format(ratios[0]),'1: ({0:.2f})'.format(ratios[1])))"
   ]
  },
  {
   "cell_type": "code",
   "execution_count": 22,
   "metadata": {
    "collapsed": false
   },
   "outputs": [
    {
     "data": {
      "text/plain": [
       "([<matplotlib.axis.XTick at 0x11655ad90>,\n",
       "  <matplotlib.axis.XTick at 0x11655abd0>],\n",
       " <a list of 2 Text xticklabel objects>)"
      ]
     },
     "execution_count": 22,
     "metadata": {},
     "output_type": "execute_result"
    },
    {
     "data": {
      "image/png": "[encoded data removed]",
      "text/plain": [
       "<matplotlib.figure.Figure at 0x111180750>"
      ]
     },
     "metadata": {},
     "output_type": "display_data"
    }
   ],
   "source": [
    "cnts, ratios = render_cnt_and_ratio(y_test)\n",
    "\n",
    "fig, ax = plt.subplots()\n",
    "plt.subplot(111)\n",
    "plt.title('Test')\n",
    "plt.bar([0,1], ratios)\n",
    "plt.xticks([0, 1], ('0: ({0:.2f})'.format(ratios[0]),'1: ({0:.2f})'.format(ratios[1])))"
   ]
  },
  {
   "cell_type": "code",
   "execution_count": 23,
   "metadata": {
    "collapsed": false
   },
   "outputs": [
    {
     "name": "stdout",
     "output_type": "stream",
     "text": [
      "# Tuning hyper-parameters for roc_auc\n",
      "Best parameters set found on development set:\n",
      "{'kernel': 'rbf', 'C': 1000, 'gamma': 0.0001}\n",
      "Grid scores on development set:\n",
      "0.562 (+/-0.037) for {'kernel': 'rbf', 'C': 0.1, 'gamma': 0.001}\n",
      "0.563 (+/-0.048) for {'kernel': 'rbf', 'C': 0.1, 'gamma': 0.0001}\n",
      "0.582 (+/-0.037) for {'kernel': 'rbf', 'C': 0.1, 'gamma': 1e-05}\n",
      "0.589 (+/-0.040) for {'kernel': 'rbf', 'C': 1, 'gamma': 0.001}\n",
      "0.564 (+/-0.045) for {'kernel': 'rbf', 'C': 1, 'gamma': 0.0001}\n",
      "0.571 (+/-0.059) for {'kernel': 'rbf', 'C': 1, 'gamma': 1e-05}\n",
      "0.611 (+/-0.030) for {'kernel': 'rbf', 'C': 10, 'gamma': 0.001}\n",
      "0.590 (+/-0.022) for {'kernel': 'rbf', 'C': 10, 'gamma': 0.0001}\n",
      "0.571 (+/-0.059) for {'kernel': 'rbf', 'C': 10, 'gamma': 1e-05}\n",
      "0.611 (+/-0.028) for {'kernel': 'rbf', 'C': 1000, 'gamma': 0.001}\n",
      "0.611 (+/-0.029) for {'kernel': 'rbf', 'C': 1000, 'gamma': 0.0001}\n",
      "0.609 (+/-0.030) for {'kernel': 'rbf', 'C': 1000, 'gamma': 1e-05}\n",
      "Detailed classification report:\n",
      "The model is trained on the full development set.\n",
      "The scores are computed on the full evaluation set.\n",
      "Performance on Test Set\n",
      "             precision    recall  f1-score   support\n",
      "\n",
      "   Negative       0.90      1.00      0.95       520\n",
      "   Positive       0.00      0.00      0.00        59\n",
      "\n",
      "avg / total       0.81      0.90      0.85       579\n",
      "\n"
     ]
    },
    {
     "name": "stderr",
     "output_type": "stream",
     "text": [
      "/Users/jesikmin/anaconda2/lib/python2.7/site-packages/sklearn/metrics/classification.py:1135: UndefinedMetricWarning: Precision and F-score are ill-defined and being set to 0.0 in labels with no predicted samples.\n",
      "  'precision', 'predicted', average, warn_for)\n"
     ]
    }
   ],
   "source": [
    "for score in scores:\n",
    "    print \"# Tuning hyper-parameters for %s\" % score\n",
    "    \n",
    "    scoring = '%s_macro' % score if score is not 'roc_auc' else score\n",
    "\n",
    "    clf = GridSearchCV(svm.SVC(probability=True),\n",
    "                       tuned_parameters,\n",
    "                       cv=5,\n",
    "                       scoring=scoring)\n",
    "    clf.fit(X_train, y_train)\n",
    "\n",
    "    print \"Best parameters set found on development set:\"\n",
    "    print clf.best_params_\n",
    "    \n",
    "    print \"Grid scores on development set:\"\n",
    "    means = clf.cv_results_['mean_test_score']\n",
    "    stds = clf.cv_results_['std_test_score']\n",
    "    for mean, std, params in zip(means, stds, clf.cv_results_['params']):\n",
    "        print \"%0.3f (+/-%0.03f) for %r\"% (mean, std * 2, params)\n",
    "\n",
    "    print \"Detailed classification report:\" \n",
    " \n",
    "    print \"The model is trained on the full development set.\"\n",
    "    print \"The scores are computed on the full evaluation set.\"\n",
    "\n",
    "    # classification report and auroc on test\n",
    "    print \"Performance on Test Set\"\n",
    "    y_true, y_pred = y_test, clf.predict(X_test)\n",
    "    print classification_report(y_true, y_pred, target_names=target_names)\n",
    "    \n",
    "    probas_ = clf.predict_proba(X_test)\n",
    "    fpr_all, tpr_all, thresholds = roc_curve(y_test, probas_[:, 1])\n",
    "    \n",
    "    np.save(os.path.join(STATS_DIR, \"svm_rbf_all_fpr_test.npy\"), fpr_all)\n",
    "    np.save(os.path.join(STATS_DIR, \"svm_rbf_all_tpr_test.npy\"), tpr_all)\n",
    "    \n",
    "    precision_all, recall_all, thresholds = precision_recall_curve(y_test, probas_[:, 1])\n",
    "    \n",
    "    np.save(os.path.join(STATS_DIR, \"svm_rbf_all_precision_test.npy\"), precision_all)\n",
    "    np.save(os.path.join(STATS_DIR, \"svm_rbf_all_recall_test.npy\")   , recall_all)"
   ]
  },
  {
   "cell_type": "markdown",
   "metadata": {},
   "source": [
    "#### 14) Plot auROC curves"
   ]
  },
  {
   "cell_type": "code",
   "execution_count": 32,
   "metadata": {
    "collapsed": false
   },
   "outputs": [
    {
     "data": {
      "image/png": "[encoded data removed]",
      "text/plain": [
       "<matplotlib.figure.Figure at 0x1184ac4d0>"
      ]
     },
     "metadata": {},
     "output_type": "display_data"
    }
   ],
   "source": [
    "roc_auc_1 = auc(fpr_1, tpr_1)\n",
    "roc_auc_2 = auc(fpr_2, tpr_2)\n",
    "roc_auc_all = auc(fpr_all, tpr_all)\n",
    "plt.title('Receiver Operating Characteristic')\n",
    "plt.plot(fpr_1, tpr_1, 'c', label = 'Negative Scale: %d, AUC = %0.2f' % (1, roc_auc_1))\n",
    "plt.plot(fpr_2, tpr_2, 'm', label = 'Negative Scale: %d, AUC = %0.2f' % (2, roc_auc_2))\n",
    "plt.plot(fpr_all, tpr_all, 'y', label = 'Negative Scale: %s, AUC = %0.2f' % ('None', roc_auc_all))\n",
    "plt.legend(loc = 'lower right')\n",
    "plt.plot([0, 1], [0, 1],'r--')\n",
    "plt.xlim([0, 1])\n",
    "plt.ylim([0, 1])\n",
    "plt.ylabel('True Positive Rate')\n",
    "plt.xlabel('False Positive Rate')\n",
    "plt.show()"
   ]
  },
  {
   "cell_type": "markdown",
   "metadata": {},
   "source": [
    "#### 15) Plot auPRC curves"
   ]
  },
  {
   "cell_type": "code",
   "execution_count": 39,
   "metadata": {
    "collapsed": false
   },
   "outputs": [
    {
     "data": {
      "image/png": "[encoded data removed]",
      "text/plain": [
       "<matplotlib.figure.Figure at 0x1204f1390>"
      ]
     },
     "metadata": {},
     "output_type": "display_data"
    }
   ],
   "source": [
    "prc_auc_1 = auc(recall_1, precision_1)\n",
    "prc_auc_2 = auc(recall_2, precision_2)\n",
    "prc_auc_all = auc(recall_all, precision_all)\n",
    "plt.title('auPRC Curves')\n",
    "plt.plot(recall_1, precision_1, 'c', label = 'Negative Scale: %d, AUC = %0.2f' % (1, prc_auc_1))\n",
    "plt.plot(recall_2, precision_2, 'm', label = 'Negative Scale: %d, AUC = %0.2f' % (2, prc_auc_2))\n",
    "plt.plot(recall_all, precision_all, 'y', label = 'Negative Scale: %s, AUC = %0.2f' % ('None', prc_auc_all))\n",
    "plt.legend(loc = 'lower right')\n",
    "plt.plot([0, 1], [1, 0],'r--')\n",
    "plt.xlim([0, 1])\n",
    "plt.ylim([0, 1])\n",
    "plt.ylabel('True Positive Rate')\n",
    "plt.xlabel('False Positive Rate')\n",
    "plt.show()"
   ]
  }
 ],
 "metadata": {
  "kernelspec": {
   "display_name": "Python 2",
   "language": "python",
   "name": "python2"
  },
  "language_info": {
   "codemirror_mode": {
    "name": "ipython",
    "version": 2
   },
   "file_extension": ".py",
   "mimetype": "text/x-python",
   "name": "python",
   "nbconvert_exporter": "python",
   "pygments_lexer": "ipython2",
   "version": "2.7.13"
  }
 },
 "nbformat": 4,
 "nbformat_minor": 0
}
