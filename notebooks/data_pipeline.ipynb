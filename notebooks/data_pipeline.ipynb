{
 "cells": [
  {
   "cell_type": "markdown",
   "metadata": {},
   "source": [
    "# Data Pipeline Tutorial"
   ]
  },
  {
   "cell_type": "code",
   "execution_count": 1,
   "metadata": {
    "collapsed": false
   },
   "outputs": [],
   "source": [
    "# need this for jupyter notebook to import from the parent directory\n",
    "import os, sys\n",
    "sys.path.append('../')\n",
    "# import SequenceReader() class\n",
    "from utils.seq_reader import *"
   ]
  },
  {
   "cell_type": "markdown",
   "metadata": {},
   "source": [
    "#### 1) Create an instance of SequenceReader() with target expression and the k-mer length"
   ]
  },
  {
   "cell_type": "code",
   "execution_count": 2,
   "metadata": {
    "collapsed": false
   },
   "outputs": [],
   "source": [
    "seq_reader = SequenceReader('hindbrain (rhombencephalon)', 6)"
   ]
  },
  {
   "cell_type": "markdown",
   "metadata": {},
   "source": [
    "#### 2) Read the entire file"
   ]
  },
  {
   "cell_type": "code",
   "execution_count": 3,
   "metadata": {
    "collapsed": false
   },
   "outputs": [
    {
     "name": "stderr",
     "output_type": "stream",
     "text": [
      "106363it [00:24, 4320.25it/s]"
     ]
    },
    {
     "name": "stdout",
     "output_type": "stream",
     "text": [
      "Total lines read: 106363\n",
      "Total sequences read: 2892\n",
      "Number of seqs with enhancer activity: 1574\n",
      "# of Positive sequence with hindbrain (rhombencephalon) expression : 383\n",
      "# of Negative sequence with hindbrain (rhombencephalon) expression : 2509\n"
     ]
    },
    {
     "name": "stderr",
     "output_type": "stream",
     "text": [
      "\n"
     ]
    }
   ],
   "source": [
    "seq_reader.read_all()"
   ]
  },
  {
   "cell_type": "markdown",
   "metadata": {},
   "source": [
    "#### Examples of what is fetched and stored\n",
    "Inside the SequenceReader() instance, you can fetch the everything fetched and stored via calling get_entire_features() function. It is a large dictionary with two keys: 1) 'True' and 2) 'False'.\n",
    "\n",
    "'True' refers to the sequences that had positive enhancer activity with respect to the target expression and 'False' refers to the sequences that did not have any activity with respect to the target expression.\n",
    "\n",
    "For example, in this example, the code below will show one of the sequence with the positive hindbrain expression.\n",
    "\n",
    "Each entry under 'True' or 'False' keys is also a list, where the first element is a normalized feature vector and the second element is metadat containing all the relevant information."
   ]
  },
  {
   "cell_type": "code",
   "execution_count": 4,
   "metadata": {
    "collapsed": false
   },
   "outputs": [
    {
     "name": "stdout",
     "output_type": "stream",
     "text": [
      "[ 0.03273853  0.          0.03273853 ...,  0.          0.          0.        ]\n",
      "(2080,)\n"
     ]
    }
   ],
   "source": [
    "print seq_reader.get_entire_features()['True'][0][0]\n",
    "print seq_reader.get_entire_features()['True'][0][0].shape"
   ]
  },
  {
   "cell_type": "code",
   "execution_count": 5,
   "metadata": {
    "collapsed": false
   },
   "outputs": [
    {
     "name": "stdout",
     "output_type": "stream",
     "text": [
      "{'end': 86430726, 'exists': 'positive', 'element': 'element 1', 'start': 86430087, 'expressions': {'limb': '[3/12]', 'neural tube': '[12/12]', 'hindbrain (rhombencephalon)': '[12/12]', 'cranial nerve': '[8/12]'}, 'chrom': 'chr16', 'species': 'Human'}\n"
     ]
    }
   ],
   "source": [
    "print seq_reader.get_entire_features()['True'][0][1]"
   ]
  }
 ],
 "metadata": {
  "kernelspec": {
   "display_name": "Python 2",
   "language": "python",
   "name": "python2"
  },
  "language_info": {
   "codemirror_mode": {
    "name": "ipython",
    "version": 2
   },
   "file_extension": ".py",
   "mimetype": "text/x-python",
   "name": "python",
   "nbconvert_exporter": "python",
   "pygments_lexer": "ipython2",
   "version": "2.7.13"
  }
 },
 "nbformat": 4,
 "nbformat_minor": 0
}
