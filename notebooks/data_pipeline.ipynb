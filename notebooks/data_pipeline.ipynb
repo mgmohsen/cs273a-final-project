{
 "cells": [
  {
   "cell_type": "markdown",
   "metadata": {},
   "source": [
    "# Data Pipeline Tutorial"
   ]
  },
  {
   "cell_type": "code",
   "execution_count": 1,
   "metadata": {
    "collapsed": false
   },
   "outputs": [],
   "source": [
    "# need this for jupyter notebook to import from the parent directory\n",
    "import os, sys\n",
    "sys.path.append('../')\n",
    "# import SequenceReader() class\n",
    "from utils.seq_reader import *"
   ]
  },
  {
   "cell_type": "markdown",
   "metadata": {},
   "source": [
    "#### 1) Create an instance of SequenceReader() with target expression and the k-mer length"
   ]
  },
  {
   "cell_type": "code",
   "execution_count": 2,
   "metadata": {
    "collapsed": false
   },
   "outputs": [],
   "source": [
    "seq_reader = SequenceReader('hindbrain (rhombencephalon)', 6)"
   ]
  },
  {
   "cell_type": "markdown",
   "metadata": {},
   "source": [
    "#### 2) Read the entire file"
   ]
  },
  {
   "cell_type": "code",
   "execution_count": 3,
   "metadata": {
    "collapsed": false
   },
   "outputs": [
    {
     "name": "stderr",
     "output_type": "stream",
     "text": [
      "106363it [00:14, 7102.15it/s]"
     ]
    },
    {
     "name": "stdout",
     "output_type": "stream",
     "text": [
      "Total lines read: 106363\n",
      "Total sequences read: 2892\n",
      "Number of seqs with enhancer activity: 1574\n",
      "# of Positive sequence with hindbrain (rhombencephalon) expression : 383\n",
      "# of Negative sequence with hindbrain (rhombencephalon) expression : 2509\n"
     ]
    },
    {
     "name": "stderr",
     "output_type": "stream",
     "text": [
      "\n"
     ]
    }
   ],
   "source": [
    "seq_reader.read_all()"
   ]
  },
  {
   "cell_type": "markdown",
   "metadata": {},
   "source": [
    "#### Examples of what is fetched and stored\n",
    "Inside the SequenceReader() instance, you can fetch the everything fetched and stored via calling get_entire_features() function. It is a large dictionary with two keys: 1) 'True' and 2) 'False'.\n",
    "\n",
    "'True' refers to the sequences that had positive enhancer activity with respect to the target expression and 'False' refers to the sequences that did not have any activity with respect to the target expression.\n",
    "\n",
    "For example, in this example, the code below will show one of the sequence with the positive hindbrain expression.\n",
    "\n",
    "Each entry under 'True' or 'False' keys is also a list, where the first element is a normalized feature vector and the second element is metadat containing all the relevant information."
   ]
  },
  {
   "cell_type": "code",
   "execution_count": 4,
   "metadata": {
    "collapsed": true
   },
   "outputs": [],
   "source": [
    "keys, entire_features = seq_reader.get_entire_features()"
   ]
  },
  {
   "cell_type": "code",
   "execution_count": 5,
   "metadata": {
    "collapsed": false
   },
   "outputs": [
    {
     "name": "stdout",
     "output_type": "stream",
     "text": [
      "['GGGCTT', 'GAACGT', 'CTTCTT', 'CACCCT', 'GAACGG', 'GAACGC', 'GAACGA', 'CACCCA', 'CTTCTA', 'CACCCC', 'CTTCTC', 'CACCCG', 'CTTCTG', 'CGTGTG', 'TAAGGT', 'CGTGTC', 'CGTGTA', 'GGAAAT', 'TAAGGG', 'CGTGTT', 'TAAGGC', 'TAAGGA', 'GACGTG', 'CCCGCT', 'GTCAAG', 'CTGTCC', 'TCAGAG', 'CTGTCA', 'CTGTCG', 'TCAGAC', 'TCAGAA', 'GTCAAT', 'GTATCA', 'TCAGAT', 'GTATCG', 'CTGTCT', 'GGTGTC', 'GGTGTA', 'GGTGTG', 'TATCCT', 'CCGGGG', 'TTCTGT', 'ATTCCT', 'CCGGGC', 'CCGGGA', 'TATCCA', 'TATCCC', 'GTTCTG', 'TATCCG', 'GGTGTT', 'ATTCCG', 'TTCTGG', 'CCGGGT', 'ATTCCC', 'TTCTGC', 'ATTCCA', 'TGCACT', 'TATCTT', 'CGCGGT', 'CCCGCG', 'CGCGGC', 'CGCGGA', 'ACCTGT', 'TCATGT', 'CCCGCC', 'TTACAG', 'CTCCGC', 'TTACAA', 'TTACAC', 'CTCCGG', 'TCATGC', 'ACCTGG', 'TCATGA', 'GTAAGC', 'TCATGG', 'ACCTGC', 'ACCTGA', 'TTACAT', 'CTCGAT', 'CTCCGT', 'GCCTGA', 'GCCTGC', 'GCCTGG', 'TAAAGG', 'CAAATT', 'TAAAGA', 'GCATAA', 'AAGGTC', 'GCCTGT', 'TATCTA', 'TAAAGT', 'CAAATA', 'CAAATC', 'CGTGCT', 'CAAATG', 'AATACT', 'TATCTC', 'CCGGCG', 'GGCATG', 'GGCATA', 'GGCGAC', 'GGCATC', 'AATACG', 'AATACA', 'AATACC', 'GGCATT', 'TATCTG', 'TGCACA', 'GAGCAC', 'ACTGAT', 'GAGCAG', 'AGTAGT', 'TCTCGC', 'TCTCGA', 'TCTCGG', 'AGTAGC', 'AGTAGA', 'AGTAGG', 'ACTGAA', 'AAGGTT', 'TCTCGT', 'GTGTCG', 'TCGAAC', 'TCGAAA', 'GTGTCC', 'TCGAAG', 'GTGTCA', 'GTTGTA', 'CTTGCT', 'TCGGTC', 'GTGTCT', 'TTGAAG', 'TCGAAT', 'CTTGCG', 'CTTGCA', 'CTTGCC', 'CGAAAG', 'CGAAAA', 'CGAAAC', 'AATCAT', 'AAATGC', 'CACGGC', 'AAATGA', 'ACAGTC', 'CACGGG', 'ACAGTA', 'TAGAGC', 'CGAAAT', 'ACAGTT', 'AATCAG', 'CACGGT', 'AAATGT', 'AATCAC', 'GGGTCT', 'GCTCAA', 'TCTAGT', 'TTGCCG', 'ATACGT', 'TTGCCC', 'ATACGA', 'TCTAGG', 'ATACGC', 'TCTAGA', 'GGGTAG', 'TCTAGC', 'ATACGG', 'TGACTA', 'TTTGTG', 'TGGGCC', 'AGATGT', 'TCGCCC', 'TCGCCA', 'GGGTCG', 'TCGCCG', 'GGTAAT', 'ACCCAT', 'GTCAAC', 'GTGTAT', 'ACCCAC', 'GGTAAC', 'ACCCAA', 'AGATGG', 'ACCCAG', 'AGATGA', 'TCGCCT', 'AGATGC', 'GCTCAC', 'TTTGAG', 'CCCCAT', 'CACTAG', 'CACTAA', 'CACTAC', 'CCCCAA', 'CCCCAC', 'CCCCAG', 'CACTAT', 'CTATCG', 'TCGGTT', 'TTGGGA', 'TTGGGC', 'CTCGAG', 'TGCAGA', 'TTTCTG', 'TGCAGC', 'TTTCTA', 'TTTCTC', 'TGCAGG', 'GGGTCA', 'GTGGCC', 'GTATCT', 'TTTCTT', 'TGCCTT', 'TGCAGT', 'TAGTGC', 'AAGGAA', 'AAGGAC', 'AAGGAG', 'ATATGC', 'GTTCCA', 'ATATGA', 'GTGAGA', 'ATATGG', 'GATGGA', 'AAGGAT', 'CTATCA', 'TGGTTT', 'GGCTCG', 'ATATGT', 'GGTCCC', 'TCCGGT', 'ATGCAG', 'GGTCCG', 'AGGTCT', 'TGTGTC', 'ATTGTT', 'AGACCG', 'CTTCGC', 'ATGCAA', 'AGGTCC', 'AGGTCA', 'AGGTCG', 'GGTCCT', 'TCCGGA', 'CTTAGC', 'ATTGTG', 'CTTAGA', 'CCACTC', 'CTTAGG', 'ATTGTC', 'ATTGTA', 'CGCTAC', 'ATTTTG', 'CGCTAA', 'ATTTTA', 'CGCTAG', 'ATTTTC', 'TCCAGC', 'TAGCAG', 'GATACT', 'TAGCAC', 'TAGCAA', 'TAAATA', 'ATTTTT', 'TAAATC', 'TAGTGT', 'CGCTAT', 'GATACG', 'TAGCAT', 'GATACC', 'GATACA', 'TGAGCT', 'GTCACC', 'GATCAT', 'AAGACA', 'AAGACC', 'AAGACG', 'CCACTT', 'TGAGCG', 'TGAGCA', 'TGAGCC', 'AAGACT', 'GAAGGG', 'CTTCCA', 'GGCGTT', 'GCGGTA', 'GCGGTG', 'CGGTGT', 'TCGTTA', 'CTTCCC', 'ACTTGT', 'GAGTTT', 'TGTGTG', 'GCGGTT', 'ACTTGC', 'ATGTGA', 'ACTTGA', 'CGGTGG', 'ACTTGG', 'CGGTGA', 'CGGTGC', 'GCCTTC', 'TTCCTA', 'TAGACT', 'TTCCTC', 'ATGTGC', 'TTCCTG', 'TCCTTT', 'GACCCA', 'TAGACG', 'TAGACC', 'TAGACA', 'TCCTTG', 'TCCTTC', 'ATCTCT', 'ACCGTT', 'TGGCGC', 'TGGCGG', 'ATCTCG', 'ATCTCA', 'ATCTCC', 'TATGCT', 'ACCGTA', 'TGGCGT', 'ACCGTC', 'AGAATT', 'GGCAGT', 'CCATAA', 'CAAAGG', 'CCATAC', 'CAAAGA', 'GAAACG', 'CAAAGC', 'CAACGT', 'GGCAGA', 'GGCAGC', 'CGTGAG', 'GGCAGG', 'CAACGC', 'CAAAGT', 'CAACGA', 'CTAACC', 'CAACGG', 'CTAACG', 'GGGGGT', 'TACGCT', 'GAAACC', 'CGATCT', 'CTCTAG', 'CTCTAA', 'CTCTAC', 'GGGGGG', 'CGATCC', 'CGATCA', 'GGGGGC', 'CGATCG', 'GGGGGA', 'TACGCG', 'CTCTAT', 'GCGCAG', 'CAGACC', 'CAGACA', 'CAGACG', 'TGCGTG', 'TAGTTG', 'GCTAAT', 'TAGTTC', 'TAGTTA', 'GGGCCG', 'CAGACT', 'TAGTTT', 'GCTAAC', 'GCTAAA', 'TAAGTG', 'GCGAAA', 'AACCCT', 'GTCCAC', 'AACCCC', 'AACCCA', 'AACCCG', 'TGCATC', 'AGAATA', 'ACGTAA', 'AACTGG', 'GTCAGC', 'AACTGA', 'AACTGC', 'CCCAGA', 'CCCAGC', 'CCCAGG', 'AGTTTT', 'CCCAGT', 'CTCCAA', 'TTGACG', 'CGCATA', 'ATACTG', 'CGCATC', 'ATACTA', 'ATACTC', 'CGCATG', 'GCGCAA', 'GCGAAT', 'ATACTT', 'CTATCT', 'GCGCAC', 'GCTCCG', 'TATTGT', 'GCTCCC', 'GCTCCA', 'TGTACT', 'TTTAGT', 'TATTGG', 'GCTCCT', 'TATTGC', 'TATTGA', 'TTTAGG', 'TGTACG', 'CCTACG', 'TGTACA', 'CCTACA', 'TGTACC', 'CCTACC', 'TTCGCG', 'TTCGCA', 'TTCGCC', 'GACTAA', 'AGTATA', 'TTTGGG', 'AGTATG', 'TTTGGA', 'TTTGGC', 'TTCGCT', 'TTTGGT', 'GCCACA', 'GACTAT', 'TTACTC', 'TTACTA', 'TTACTG', 'ACCTTG', 'ACCTTC', 'GCCTCT', 'TTACTT', 'ACCTTT', 'ACAGGG', 'CTGGGA', 'CTGGGC', 'ACAGGA', 'CAGGAC', 'GCAGCT', 'TCGCTT', 'AGGACA', 'GCGCAT', 'TTATAC', 'TTATAG', 'GTCAGA', 'CTCCGA', 'TCGCTG', 'GAGTTG', 'GCAGCG', 'AGGACT', 'TCGCTC', 'GGAGGG', 'TCGCTA', 'CAGGAT', 'CCTCAG', 'CCTCAA', 'CCTCAC', 'TATGTT', 'ATGGGC', 'ATGGGA', 'TCTTTC', 'CCTCAT', 'TCTTTT', 'TATGTG', 'TATGTA', 'TATGTC', 'ATCAAG', 'CATGAT', 'ATCAAC', 'GAAAGG', 'ATCAAA', 'GGAACT', 'GTCAGG', 'CATGAG', 'ATCAAT', 'GTCCAA', 'CATGAC', 'CATGAA', 'CAAGTT', 'GCTTTA', 'GCTTTC', 'GAGGAT', 'GCTTTT', 'CAAGTG', 'GTAGCT', 'GCGGCC', 'CAAGTC', 'GCGGCA', 'CAAGTA', 'GGGGAA', 'TAATCG', 'CTTGTG', 'TAATCA', 'TAATCC', 'GTCGTT', 'AAAATT', 'TTGATA', 'CGGCCG', 'CTTGTA', 'TAATCT', 'AGTTTA', 'TGCGAC', 'GGTCTC', 'GGAGGC', 'AAAATG', 'AAAATC', 'AAAATA', 'TCGTCA', 'ATCCCT', 'TTCAGG', 'ATATCC', 'TCGTCG', 'TGCCAA', 'GAACAA', 'ATCCCG', 'GAACAC', 'ATCCCC', 'GAACAG', 'ATCCCA', 'GAAAGT', 'AACGGA', 'CACCAC', 'CACCAA', 'CACCAG', 'AACATT', 'AACGGG', 'TCCGTC', 'GAGTTA', 'TCCGTA', 'CGGCGT', 'CACCAT', 'AACATG', 'AACATC', 'CAGTCG', 'GCACGG', 'TCAGCC', 'GCACGA', 'CAGTCC', 'GCACGC', 'CAGTCA', 'GCACCA', 'GCAAGC', 'GCACGT', 'CAGTCT', 'TCAGCT', 'GTCAGT', 'GTATAC', 'TTCCGT', 'GTATAG', 'CCGGAA', 'CCGGAC', 'TGACGT', 'TTCCGA', 'TTCCGC', 'GTATAT', 'CGTCTC', 'CCGGAT', 'CTCTTC', 'TGTTAT', 'CTCTTA', 'CTCTTG', 'CCCGAT', 'TACGTA', 'TACGTC', 'TCTGGT', 'CGCGAT', 'TACGTG', 'TGTTAG', 'CTCGTG', 'CTCTTT', 'TGTTAA', 'CGCGAC', 'GATATT', 'TCTGGC', 'TACGTT', 'CGCGAG', 'AGTCGT', 'GGTACT', 'TTACCT', 'CTCCAT', 'TTACCG', 'CTCCAC', 'AGTCGG', 'TTACCC', 'AGTCGA', 'TTACCA', 'AGTCGC', 'GTACCG', 'GCCTAC', 'GCCTAA', 'GCCTAG', 'GTGCGG', 'CCGACA', 'GATATC', 'CCGACC', 'CCGACG', 'GCCTAT', 'TGACGG', 'CCCGAG', 'CTCGTT', 'CCCGAA', 'CGCACA', 'CGCACC', 'ATACAA', 'ACTGCT', 'ATACAG', 'CGCACG', 'GGGTCC', 'GAGCGT', 'CTCACT', 'TTTGTA', 'TTTGTC', 'CGCACT', 'ATACAT', 'ACTGCG', 'CTCACC', 'CTCACA', 'TAGTGG', 'ACAATT', 'CTTGAA', 'TAGTGA', 'GCGTCA', 'TCGACG', 'TCGACA', 'TCGACC', 'GTGAGT', 'ACAATC', 'GATTTC', 'ACAATG', 'CTGGTT', 'TGCAAA', 'CGAACG', 'CGAACC', 'CGAACA', 'CTGGTA', 'CTGGTC', 'CGAACT', 'GACGAG', 'TTGCAG', 'TCCATA', 'TTGCAC', 'TTGCAA', 'GAGGGC', 'TCGCAT', 'GTCGTG', 'GTCGTA', 'GTCGTC', 'CCGTTT', 'GAGCAA', 'GCCTCG', 'TGGCAC', 'TCGCAG', 'TCGCAA', 'TCGCAC', 'CCGTTA', 'GATCGG', 'AATGCT', 'GGTACG', 'GGTACC', 'CAGGGA', 'TTCAGC', 'TATTTC', 'CCCCCT', 'GCCACT', 'AATGCG', 'AATGCA', 'CCCCCA', 'CCCCCG', 'CTTGAG', 'ATGATG', 'GAAGTA', 'ATGATA', 'GCGTTA', 'TGCAAC', 'TTGAGT', 'GAAGTG', 'GTGCTT', 'GCCATT', 'TTGAGA', 'GAGAAT', 'TTCAGA', 'ACTGAG', 'AAGGCC', 'ATAACC', 'AAGGCG', 'ATAACG', 'TCCATT', 'TGTCTC', 'GAGAAC', 'TGTGGA', 'TGTGGG', 'ATAACT', 'TAGGCT', 'AACGGC', 'GTCACG', 'AGGTAT', 'ACCAAG', 'GAGCAT', 'ATCATC', 'ACCAAC', 'GGTCAC', 'GATCGC', 'GGTCAT', 'ACCAAT', 'AGGTAG', 'AGGTAC', 'TTTTGC', 'TCTTAC', 'AATTGG', 'TCTTAA', 'AATTGA', 'AATTGC', 'TAGCCA', 'TGGGGT', 'CGCTCG', 'GATAAT', 'CGCTCC', 'AATCTT', 'TCTTAT', 'TTTTGT', 'CGCTCT', 'GATAAC', 'TAGCCT', 'TGGGGC', 'TGGGGA', 'GATCCT', 'AAGAAT', 'CGAAGT', 'AAGAAC', 'GATCCA', 'TATTAG', 'GATCCG', 'TATTAA', 'CAAGGG', 'CAAGGC', 'GGTTCT', 'GGTTCA', 'GGTTCC', 'AAGGCT', 'TAGGCA', 'ATTATA', 'TAGAAT', 'GATAGT', 'ATTATG', 'TAGAAC', 'ATTATT', 'AGTCTC', 'TAACTG', 'ATCTAT', 'GCCCCG', 'GGCGCT', 'TAACTT', 'ATCTAG', 'ATCTAC', 'ATCTAA', 'GGTCAG', 'CCATGT', 'TGGAGG', 'TGGAGA', 'CCATGC', 'TCCAGA', 'CCATGG', 'TGGAGT', 'TCAGTA', 'TCAGTC', 'CTCTCT', 'TCAGTG', 'CGATAT', 'CTCTCG', 'GGGGAC', 'CTCTCC', 'CTCTCA', 'CGATAA', 'ATGCTG', 'GAGGGT', 'GTGTTT', 'GGGCAT', 'GTGGTT', 'GTGTTA', 'GTGTTG', 'CGTGCC', 'GTGGTA', 'GCTACA', 'GTGGTC', 'GCTACC', 'GCTACG', 'CGTGCA', 'TTTCGT', 'TGCCCT', 'AGCGTT', 'CACGGA', 'TGCCCG', 'ACAGTG', 'AGCGTC', 'AGCGTG', 'GGCCCC', 'CACGTG', 'GGCCCG', 'ACGTGA', 'ACGTGG', 'AAATGG', 'CACGTT', 'GTCTCC', 'GGCCCT', 'GGGACA', 'TTTTGG', 'ACGTGT', 'TCTTAG', 'GCTTCC', 'AGAGAA', 'AGAGAC', 'TCTATA', 'GTCTTT', 'TCTATC', 'TCTATG', 'TTCACA', 'GTCTTG', 'TCTATT', 'GTCTTC', 'GTCTTA', 'GCAGAG', 'TGCCCC', 'TAGCCC', 'GCAGAC', 'GCTCAG', 'ATGCGT', 'TTGCTG', 'GCAGAT', 'GCTCAT', 'GTTTGC', 'TTGCTT', 'ATGCGG', 'GAGAGG', 'TAGCCG', 'TGTAAG', 'GGCTAG', 'TGTAAC', 'GGCTAC', 'TGTAAA', 'GGCTAA', 'ACTGTA', 'TTGGTA', 'ACTGTC', 'TTGGTC', 'TTCGAC', 'ACTGTG', 'AATCAA', 'GACTGC', 'GGCTAT', 'TGTAAT', 'GACTGG', 'GAGTCG', 'TTCGAT', 'TTGGTT', 'ACTGTT', 'GTTTCT', 'ATAATT', 'CCTTTT', 'GTTTCC', 'GATAAA', 'ATAATG', 'ATAATC', 'ATAATA', 'ACAGAC', 'GCCCCT', 'ACAGAG', 'TTATCT', 'CTGGAC', 'CTGGAA', 'CTGGAG', 'ACAGAT', 'GTGAAG', 'TTATCA', 'CTGGAT', 'TTATCC', 'CCAATG', 'AAACCG', 'CCAATC', 'AAACCC', 'TTGCCA', 'AACGAA', 'GAGATG', 'AAACCT', 'ATTTGC', 'GTCGAT', 'ATTTGG', 'AACGAT', 'TGTCGT', 'CCCTAC', 'GAGATT', 'CCCTAA', 'TGTTTG', 'TGGATT', 'ATCACA', 'ATCACC', 'CATGCT', 'ATCACG', 'CATTAG', 'CATTAA', 'CATTAC', 'CATGCA', 'TGACAT', 'ATCACT', 'GTAGAA', 'GTAGAC', 'ACAACA', 'ACAACC', 'GATTGC', 'ACAACG', 'ACTAAG', 'TGCTAC', 'TTGCCT', 'TGATGC', 'ACAACT', 'TAATAG', 'AGTCCG', 'TAATAC', 'GTCCGA', 'TAATAA', 'GTCCGC', 'TGTTTA', 'TCAACA', 'CACATC', 'GTCCGT', 'TAATAT', 'GCTAGC', 'TTCTCC', 'ATCCAT', 'TTCTCG', 'GAGCTA', 'TCGTAC', 'TACCTT', 'TCGTAA', 'TCGTAG', 'ATCCAA', 'ATCCAC', 'GAACCC', 'TACCTG', 'TACCTA', 'TACCTC', 'ACCATC', 'ACCATA', 'ACCATG', 'ATGTTG', 'AGCTCT', 'GAGCTG', 'AGTGGT', 'TGATGT', 'ATGTTT', 'ACCATT', 'AGTGGA', 'AGCTCC', 'CAGTAC', 'CAGTAG', 'TTTCAC', 'AAAGTA', 'AAAGTC', 'AAAGTG', 'GATCTA', 'GATCTC', 'TGTCCA', 'GATCTG', 'TCCCTT', 'CCGGCC', 'ATTAGG', 'AAAGTT', 'ACTCTC', 'TCCCTC', 'GAGCTT', 'TCCCTA', 'TGCCAC', 'GATCTT', 'AAGTGC', 'TGTTCT', 'TGATTG', 'TGCGCA', 'TCTGAT', 'CGAGGT', 'TGTTCA', 'TGTTCC', 'AAGTGT', 'CACAAC', 'TCTGAG', 'CGCGCC', 'CGCGCA', 'GGTAAA', 'CGCGCG', 'CTCCCT', 'AGCGGA', 'ACCTCT', 'GGTAAG', 'GACATT', 'CGCGCT', 'ACCTCC', 'ACCTCA', 'CTCCCC', 'TAGCTA', 'TAAGCC', 'CGGGAG', 'CCCATG', 'CGGGAA', 'CCCATA', 'CGGGAC', 'CCCATC', 'TTGTTG', 'CCTGCT', 'CCGAAT', 'CCCATT', 'TAGCTT', 'TAAGCT', 'CCGAAC', 'CCTGCG', 'CCGAAA', 'CCGAAG', 'CCATTC', 'CCATTA', 'CCATTG', 'TATAAC', 'TCAGCG', 'TCTACC', 'TCTACG', 'CGCAAC', 'CGCAAA', 'ATACCG', 'ATACCA', 'ATACCC', 'CCGAGT', 'GATAGG', 'CGCAAT', 'TAGTAC', 'TAGTAG', 'CTCAAC', 'GTGTGC', 'GTGTGA', 'GTGTGG', 'CTCAAT', 'GTGTGT', 'ATCTTT', 'GTTGGG', 'GTTGGA', 'GTTGGC', 'CCTTGG', 'CCTTGA', 'GGGAAA', 'AGGATT', 'GGACGT', 'ATCTTG', 'ATCTTA', 'ATCTTC', 'AGGATG', 'GACATG', 'TTGCGT', 'TCGGCG', 'GAATAT', 'GGTGCA', 'TCGGCC', 'CATAGC', 'TTGCGG', 'GAATAG', 'TCGGCT', 'GAATAC', 'GAATAA', 'TGCCTG', 'GTACAT', 'TTAATT', 'GGACGA', 'TGCCTC', 'GGACGC', 'TTATAA', 'GAAATG', 'AATGAT', 'GAAATT', 'AATGAA', 'AATGAC', 'AATGAG', 'CTTGGA', 'CTTGGC', 'GTATTG', 'CTTGGG', 'AGCCCT', 'TTGAAT', 'GTCCTA', 'GTCCTC', 'TTGAAA', 'AGCCCG', 'AGCCCA', 'AGCCCC', 'TTAACT', 'ATAAAT', 'TGGTCG', 'TGGTCA', 'TGGTCC', 'ACGATT', 'GATTCA', 'TGGTCT', 'ATAAAG', 'ATAAAA', 'ATAAAC', 'ACGATG', 'CTACAG', 'ACGATC', 'ACGATA', 'GGTTAC', 'ATGTGT', 'GGTTAA', 'CTTCCT', 'ACCACG', 'ATGTGG', 'ACCACC', 'ACCACA', 'TCCGCC', 'TCCGCA', 'AACGTC', 'AGTGTG', 'TCTTCG', 'AGTGTA', 'TCTTCA', 'AGTGTC', 'TCTTCC', 'TAAGTC', 'AACGTT', 'CCGTGA', 'TCTTCT', 'AGTGTT', 'GTTTTG', 'TTGGCC', 'GAGTAG', 'TTAACG', 'TTGGCG', 'GACTTC', 'TCGAGT', 'AAAGGG', 'TTGGCT', 'AAAGGC', 'GAGTAC', 'TTCTTT', 'CAAGAA', 'GATTCG', 'TTCTTC', 'TTCTTA', 'TACGGG', 'TACGGC', 'TAGAGT', 'AGGGCG', 'CTGTGC', 'TAGAGA', 'TAGAGG', 'CCGTGT', 'GTGCTG', 'CGAATT', 'GCTCGT', 'CGAATA', 'CGAATG', 'ATCTGG', 'ATCATA', 'GATAGC', 'AAGCAG', 'CAAACT', 'CTAGGT', 'CATTTA', 'AAGCAT', 'CAAACC', 'CAAACG', 'CTAGGG', 'GTTATT', 'CTAGGA', 'AAGTTT', 'CTCGAA', 'CTAAGG', 'CTAAGC', 'TACAGG', 'AAGTTG', 'GGATGC', 'TACAGC', 'AAGTTC', 'TACAGA', 'CTAAGT', 'GTATGA', 'GGGGCG', 'TATATC', 'GAGGGG', 'TATATA', 'TATATG', 'GGTCCA', 'TATATT', 'GGACTA', 'TGATGG', 'CTCGGT', 'ATGAGT', 'GCCCAC', 'TGATGA', 'TGCCAT', 'ACTCTT', 'TGTTTC', 'TCATAA', 'CACATG', 'TTTCAT', 'ATGAGA', 'ACTCTG', 'TTAATC', 'CACATT', 'AAATTC', 'AAATTA', 'AAATTG', 'TTCAAT', 'AAATTT', 'TTCGAA', 'GTCTAT', 'GGGAAC', 'GGTGCC', 'TCCGGG', 'AGAGCC', 'AGAGCA', 'GCGTAG', 'GGTGCT', 'GCGTAC', 'GCGTAA', 'GCGACG', 'GCGACA', 'GCGACC', 'TCCGGC', 'GCAGGA', 'GCAGGG', 'GCTCGG', 'CCGTGG', 'CTTTAG', 'CTTCGT', 'TATTCC', 'CAATTG', 'TATTCA', 'CAATTA', 'CAATTC', 'TGTAGA', 'TCTTGC', 'TGCTTA', 'TTCGGA', 'TTCGGC', 'CTTTAC', 'AGCATC', 'TTTACT', 'TTCGGT', 'GTCTAG', 'GCACTC', 'GTTTAA', 'TCCAGG', 'GTTTAG', 'TAAATT', 'CTGGCT', 'AGGCGG', 'AGGCGC', 'AGGAGT', 'ACAGCC', 'ACAGCA', 'GAGGTC', 'ACAGCG', 'AGGCGT', 'AGGAGA', 'CTGGCG', 'AGGAGG', 'CTGGCA', 'CTGGCC', 'GCGCCC', 'GCATCG', 'ACAGCT', 'GGAAAA', 'AAACAG', 'TGTCAC', 'AAACAA', 'AACGCG', 'ATTGGA', 'ATTTAC', 'ATTTAG', 'CCCTCG', 'TCCAGT', 'GGAAAG', 'CATTCT', 'GGGTTA', 'TGACCG', 'CATTCC', 'CATTCA', 'ACAAAT', 'GATTAC', 'GTAGGA', 'GATTAG', 'GCGGGT', 'ACAAAC', 'ACAAAG', 'GCGGGC', 'GTCGGT', 'GCGGGA', 'CCCTCA', 'GTAGGT', 'AACCTG', 'TAATGA', 'TAATGC', 'GGGATG', 'GCGCCG', 'GGCGTA', 'GCCCTA', 'GATGTA', 'TAATGT', 'GATGTC', 'AACCTC', 'TGAAAT', 'TTCTAG', 'TTCTAA', 'ATCCGT', 'TGAAAA', 'TGAAAC', 'TGAAAG', 'ATCCGC', 'ATCCGA', 'TGGCTC', 'TGGCTG', 'GTCGGA', 'AGCTAT', 'ATTAGT', 'GTCGGC', 'TGGCTT', 'AGTTGG', 'AGCTAA', 'AGTTGC', 'AGTTGA', 'AGCTAG', 'CTAATT', 'CAGTGT', 'TAACAA', 'GTCGGG', 'TCAAGC', 'CTGCAC', 'CAGTGC', 'CAGTGA', 'CAGTGG', 'TCAGGA', 'CGAGCT', 'TCCTAA', 'GATCAG', 'CAACCA', 'TAACAG', 'TTCCCT', 'CGAGCA', 'GAGCCG', 'TTCCCA', 'GTTCAC', 'GATCAC', 'TACATG', 'AAGTAC', 'AAGTAG', 'GGACCG', 'TACATT', 'GCACAA', 'TCTGCG', 'TAGATT', 'CCCGTC', 'TTAAGG', 'TTAAGC', 'TGTCAA', 'TGCCCA', 'TAGATG', 'TGGTTA', 'TCTGCT', 'TTAAGT', 'TTACGG', 'AGTGAC', 'AGTGAA', 'GCTAGT', 'GCGGTC', 'CGGGCG', 'CCCTCT', 'CCTGAT', 'GGCGTG', 'CCTGAG', 'GTTAGG', 'ATTGGG', 'GTTAGA', 'TATACG', 'GTTAGT', 'TATACC', 'TATACA', 'ATTGGC', 'TCTTGT', 'TCCACG', 'ACTAGT', 'TTTATT', 'GTAATA', 'AACGCA', 'CGTTCT', 'CCACCA', 'CCACCC', 'GTTCGT', 'TTTATG', 'ACTAGG', 'GTAACG', 'TTTATA', 'CCACCT', 'CGTTCA', 'CGTTCC', 'TCTAAT', 'TCGTCT', 'ACTGGC', 'TAGTCG', 'GTGACG', 'TGTCAT', 'ACTGGT', 'CTTTGG', 'CCTATG', 'GTATTT', 'CTTTGC', 'GTGACT', 'TAGTCT', 'GTGCAC', 'CGACGG', 'ACCTAA', 'CGACGC', 'CCGCAG', 'CTACGG', 'ACCTAT', 'CGACGT', 'CCCCGT', 'CGAAGG', 'GCGCTC', 'GTGCAT', 'GCGCTA', 'GTTCGC', 'GGATCT', 'TCGTTT', 'GAATCT', 'GGATCA', 'GAATCA', 'GAATCC', 'GAATCG', 'ATGGTC', 'CAGATG', 'ATGGTA', 'ACGCCC', 'CAGATT', 'CTCGAC', 'ATGGTT', 'GCTATT', 'TGCGTC', 'GCGTGG', 'TTGTAG', 'GAGGTG', 'TCCACC', 'CTACGT', 'GTCAAA', 'CCCCGA', 'GTGAAT', 'AAAAGT', 'AGCCAC', 'TGGTAG', 'CGCCAT', 'GAGTGT', 'TGGTAC', 'AGCCAT', 'TTGACT', 'CGCCAC', 'GAGTGA', 'GCCAGG', 'GCCAGC', 'GCCCGT', 'TACCGA', 'CTTCAT', 'GCCCGA', 'ATTTAA', 'CTTCAG', 'TCCGAG', 'AATTCA', 'AATTCC', 'TCCGAT', 'TAGCGG', 'GTCATC', 'GTCATA', 'TTGGAA', 'AGCAGC', 'CCAGGG', 'CCAGGA', 'TCCCCG', 'ACGGTC', 'CAAGCT', 'GGGGTC', 'CAAGCC', 'CATCTT', 'CAAGCA', 'CAAGCG', 'CGTAAT', 'ACATGC', 'TCTTGA', 'GTAAAC', 'GGCCAT', 'CGTAAG', 'GAGTCA', 'ACATGT', 'CGTAAC', 'CGTAAA', 'GGATAC', 'AGGGAC', 'GTTGTT', 'TTGTCG', 'TTGTCC', 'TTGTCA', 'CTATGA', 'ATCCTA', 'GTTGTC', 'TTGTCT', 'CTATGC', 'CTGTGG', 'AAGGGG', 'TGGGCG', 'AAGCCG', 'CTATGG', 'CAAAAA', 'AAGCCT', 'CAAAAG', 'TCAATG', 'TCAATC', 'CAGTTC', 'CAGTTG', 'GTTTGG', 'GACCCT', 'CTCTGG', 'CAGTTT', 'TGCTGG', 'TGCTGA', 'GAGTCT', 'TGCTGC', 'GCTGGT', 'GCCCTT', 'GTGATG', 'GTGATA', 'TGTAGT', 'CTTGTT', 'GCTAGG', 'GGGACT', 'ATGAAT', 'CTATGT', 'AAGGGT', 'TGATAT', 'TCTTGG', 'ATGAAC', 'GACGGC', 'CTTGTC', 'CTAACT', 'GGTGAA', 'GCGTCT', 'CGTCCT', 'GGAATC', 'GCCCTG', 'GTTATG', 'CGTCCG', 'CGTCCC', 'CGTCCA', 'CCGTAC', 'GAAGTT', 'TTAGTT', 'ATGCCA', 'GGCGCC', 'ATGCCG', 'GGCGCA', 'ACTATG', 'TTTAAG', 'TTTAAA', 'ACTATA', 'TTTAAC', 'ATGCCT', 'TTAGTA', 'TTTAAT', 'ACTATT', 'TTTCCG', 'TTTCCA', 'GTACGT', 'TTTCCT', 'GGGCAG', 'GGGCAC', 'GTTTGA', 'CCGCTC', 'CCGCTG', 'CGTGGG', 'GCGCGG', 'GCGCGC', 'TGTTTT', 'GCGCGA', 'GCATGC', 'CCGCTT', 'TTTCAG', 'GTCGAC', 'GCGCGT', 'CGTGGC', 'CTTCCG', 'TGCGCT', 'GAGCTC', 'AAACGC', 'GTAACA', 'GTAGTA', 'TTCTAT', 'TGTCCG', 'AAACGT', 'ATCGGC', 'ATTTCT', 'TGGGTA', 'ATCGGT', 'ATCAGC', 'GGTCAA', 'ACGGGT', 'GATTCT', 'TACTAG', 'CTTTTC', 'CTTTTA', 'ACGGGA', 'TACTAT', 'CTTTTT', 'TCACGA', 'TCACGC', 'GCAGCC', 'TTCCAC', 'TGAAGT', 'TTCCAT', 'ACCCTA', 'TGAAGG', 'ACCCTG', 'CTGACT', 'CTGACG', 'CTGACA', 'CCCCTG', 'AGTTAC', 'CCCCTA', 'ACACAG', 'ACACAA', 'CTGCAG', 'CATGGA', 'CATGGC', 'ATTACT', 'ACATTG', 'ACATTC', 'CGAGAC', 'AAGTCT', 'GGACAT', 'GCTATA', 'AAGTCG', 'AAGTCA', 'AAGTCC', 'GCACCT', 'GAGGCG', 'TGTTGG', 'AGCGCT', 'GAGGCC', 'TGTTGC', 'TTCTCA', 'ACTCGC', 'GAGGCT', 'AGGGTA', 'ACTCGT', 'TAAAAC', 'TAAAAA', 'ACGTTA', 'AGCTGG', 'AGAGTT', 'AGTGCC', 'TTCGTG', 'AGTGCT', 'AGAGTC', 'AGAGTA', 'AGAGTG', 'TTCGTA', 'GTTAAC', 'GTTAAG', 'TTCGTC', 'GCACCC', 'GTCTGG', 'GTTAAT', 'CCTGGT', 'TCTAAA', 'CCGGTC', 'GGAAGG', 'CAATGA', 'CCCGCA', 'CAATGC', 'GGAAGT', 'CCACAA', 'TCCTCG', 'TGTATG', 'TCCTCC', 'TAACCG', 'TCAGGG', 'ACCGCT', 'TCGCGA', 'GCTTGT', 'TAACCT', 'TGCATA', 'ACCGCA', 'CCCTAT', 'ACCGCC', 'CCTTCT', 'GATCAA', 'AGGCTC', 'CCGCCC', 'AGGCTG', 'GTGCCT', 'GTTGCT', 'TCGGGT', 'ATTTGA', 'GAAGCT', 'TCGGGA', 'GGATAG', 'GAAGCG', 'GCAGTG', 'GAAGCC', 'GCAGTA', 'GAAGCA', 'GAGAGA', 'CTCGCT', 'ACGCAG', 'ACGCAC', 'CTCGCA', 'AGTTTC', 'GCCGGG', 'TACCCG', 'GCCGGC', 'AGATCT', 'GCCGGT', 'TACCCC', 'GTTGCC', 'TCACTT', 'GTGCCG', 'GGCCTA', 'TTTGTT', 'AATCGG', 'AATCGC', 'AATCGA', 'GTTCAG', 'TCGAGG', 'CCGCCG', 'AGCCGC', 'AGCCGG', 'TAATTC', 'TGGTGA', 'GGGCTG', 'AAAAAA', 'AAAAAC', 'GGGCTC', 'AGCCGT', 'CTACAT', 'TCTCAG', 'CCAAGC', 'TGGTGT', 'AGAACT', 'ATGTCT', 'CACTGG', 'ATGTCG', 'TAGGTT', 'CTGTTG', 'AATTAC', 'TAGGTC', 'CGGGTC', 'GGGTAC', 'TGGATG', 'GCAATG', 'AGCAAA', 'ATATAT', 'AAAGCT', 'AAAGCA', 'ATATAG', 'ATATAA', 'AGCAAT', 'ATAGCA', 'TGCTAA', 'GTTTTC', 'CGAGTT', 'CGTACT', 'ACATAC', 'CTTAAG', 'ACATAA', 'AGGGGT', 'CGAGTG', 'CGAGTA', 'CGAGTC', 'AGGGGA', 'CTTAAT', 'TTGTAC', 'ATCGTG', 'GCTTCG', 'ATCGTC', 'ATCGTA', 'TGGGAG', 'TGGGAC', 'GCTTCT', 'CTAGCA', 'ACTTAC', 'ACTTAT', 'TACACA', 'GAGAGC', 'GCGAGC', 'GGCCGT', 'GCGAGG', 'CAGCCG', 'GAACTC', 'CACCTA', 'AACTAT', 'CACCTG', 'TGATCA', 'AACTAG', 'CACCTT', 'AACTAC', 'AACACA', 'TGATCT', 'CCAGCC', 'GACAGG', 'GACAGC', 'GACAGA', 'CCAGCG', 'GGTGGC', 'CGTCAT', 'GGTGGG', 'AGAGGA', 'CTCGCC', 'GTAAGG', 'CCGTCT', 'TCGGTG', 'GTCGCT', 'CCGTCC', 'CGCGTG', 'CGCGTC', 'ATGCAT', 'GGAGTT', 'GGGCCT', 'ATGACT', 'GGAGTA', 'GGAGTC', 'GGAGTG', 'GATCCC', 'GGGCCC', 'GGGCCA', 'AGGCCA', 'AGGCCG', 'ACGAGG', 'AGGCCT', 'GGGTTG', 'GACTAC', 'TGCGAT', 'TGCAAT', 'TGAACT', 'ATTGCC', 'GACTAG', 'TTTGAA', 'CTCGTA', 'AAGCTT', 'GTCTCA', 'GATATG', 'AAGCTG', 'CCAGTA', 'CATCGA', 'CATCGC', 'TACTCA', 'CATCGG', 'GAACCT', 'TCACAA', 'TCACAG', 'GAGGAG', 'GCCATA', 'ACATCG', 'TTTTAA', 'TTTTAC', 'GGCCTG', 'ATTCGT', 'GAACCG', 'ATTAAT', 'GAACCA', 'GGTATG', 'CTGAAT', 'TATGAG', 'ATGTTA', 'CTGCCA', 'ACACCC', 'CTGCCG', 'TCAACC', 'ATGTTC', 'TCAACG', 'ACACCT', 'CTGCCT', 'CCTCGG', 'CACCGT', 'GACCTG', 'CACCGG', 'CTATTG', 'CACAGC', 'CTTATC', 'CACAGA', 'CTTATA', 'CACAGG', 'CTTATG', 'CGTATG', 'AGCGAT', 'ACTCAG', 'CTTATT', 'TAAACC', 'TAAACG', 'TACTTA', 'CGGGGT', 'TAGGAG', 'GTATGC', 'TAATTA', 'CTATTT', 'TATCGG', 'TATCGA', 'TATCGC', 'GTCTAA', 'TTCAAC', 'AGTGGG', 'TATAGG', 'GTTACT', 'GATGGC', 'GCTCTG', 'CAATAT', 'CAGGAG', 'GAATGA', 'GAATGC', 'CCACGA', 'CAATAA', 'GTTCCG', 'ACTACC', 'ACTACG', 'CGTTGC', 'CGTTGG', 'TCATCG', 'TCATCC', 'CTTTCT', 'TCCTAT', 'CGACCG', 'CCTTAT', 'AATAGG', 'GGATGT', 'GGATGG', 'TCTCCG', 'GAGTCC', 'TCTCCC', 'ACGCGA', 'ACGCGG', 'AGTACT', 'ACGCGT', 'GCTTAT', 'GCCGAG', 'GGGTGA', 'AAATCG', 'AAATCC', 'AAATCA', 'GGCTTT', 'CTTTGA', 'AAATCT', 'GGAGCA', 'GGAGCC', 'GATGAA', 'GCTCTT', 'GATGAG', 'AAAACC', 'AAAACG', 'TCGCGG', 'CTACCG', 'GCGCTT', 'AGAAAA', 'CCGGCA', 'GGCGTC', 'AGCACA', 'GCGCTG', 'TTATTT', 'TGTGAC', 'ATATCT', 'CTTACT', 'CCTCTG', 'AGGTGA', 'TTTTAG', 'AGACGT', 'CCTCTT', 'CCCGGG', 'TATGAA', 'CCCGGT', 'GCGGGG', 'TGAGGA', 'TGAGGC', 'AAGAGA', 'AAGCGT', 'GCGTGT', 'ACTTCT', 'CTGCTG', 'GGTCGT', 'TGAAGC', 'CGTCGT', 'GGGAGT', 'GTACAC', 'TGGCCG', 'TGGCCA', 'GCGGCG', 'AACTCA', 'GGATCC', 'AATATT', 'CAACCT', 'GGCACA', 'CAACCG', 'AATATG', 'GCTGCG', 'TTGAAC', 'CGATGG', 'GAATTC', 'CTACAC', 'TCCCAC', 'GGATTG', 'AGCGGC', 'AACCGG', 'TCTGTT', 'AAAGCG', 'AACCGT', 'AGCCTG', 'CGCCTA', 'CGCCTG', 'CAGAGA', 'CCTAGG', 'TTTGCC', 'TAAGCG', 'TAGCTG', 'ATCGCC', 'TGAGTG', 'TGAGTC', 'ACGGCA', 'CATCAA', 'CATCAG', 'ACGGCG', 'AGATTG', 'GTCCAT', 'TCAAAA', 'GCTGTT', 'CGTACG', 'GGGAGG', 'TTTTTC', 'ACTCCG', 'TTAAAG', 'CTGTAC', 'GCAACC', 'TCGTGT', 'TTCACG', 'CGATTG', 'AGTCCA', 'CAGCTG', 'TACGCA', 'CCGCGG', 'CCAACC', 'GGGATT', 'CTCAGC', 'TCGAGC', 'GCCGCC', 'GCCGCA', 'CATATG', 'AACTTA', 'AAATAT', 'AATCCG', 'CGGATG', 'GCAAGG', 'TACCGG', 'CTATAG', 'TACCGT', 'CCTGTT', 'TATCAG', 'TAGCGT', 'CAGCGT', 'ATTCTG', 'CCTTGT', 'TCGATC', 'TCGGCA', 'ATCGAT', 'AGGAAC', 'CGGAGG', 'GACGTC', 'ACCGGT']\n"
     ]
    }
   ],
   "source": [
    "print keys"
   ]
  },
  {
   "cell_type": "code",
   "execution_count": 6,
   "metadata": {
    "collapsed": false
   },
   "outputs": [
    {
     "name": "stdout",
     "output_type": "stream",
     "text": [
      "[ 0.03273853  0.          0.03273853 ...,  0.          0.          0.        ]\n",
      "(2080,)\n"
     ]
    }
   ],
   "source": [
    "print entire_features['True'][0][0]\n",
    "print entire_features['True'][0][0].shape"
   ]
  },
  {
   "cell_type": "code",
   "execution_count": 7,
   "metadata": {
    "collapsed": false
   },
   "outputs": [
    {
     "name": "stdout",
     "output_type": "stream",
     "text": [
      "{'end': 86430726, 'exists': 'positive', 'element': 'element 1', 'start': 86430087, 'expressions': {'limb': '[3/12]', 'neural tube': '[12/12]', 'hindbrain (rhombencephalon)': '[12/12]', 'cranial nerve': '[8/12]'}, 'chrom': 'chr16', 'species': 'Human'}\n"
     ]
    }
   ],
   "source": [
    "print entire_features['True'][0][1]"
   ]
  }
 ],
 "metadata": {
  "kernelspec": {
   "display_name": "Python 2",
   "language": "python",
   "name": "python2"
  },
  "language_info": {
   "codemirror_mode": {
    "name": "ipython",
    "version": 2
   },
   "file_extension": ".py",
   "mimetype": "text/x-python",
   "name": "python",
   "nbconvert_exporter": "python",
   "pygments_lexer": "ipython2",
   "version": "2.7.13"
  }
 },
 "nbformat": 4,
 "nbformat_minor": 0
}
